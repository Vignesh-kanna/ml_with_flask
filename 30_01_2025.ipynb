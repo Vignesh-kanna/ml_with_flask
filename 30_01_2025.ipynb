{
  "nbformat": 4,
  "nbformat_minor": 0,
  "metadata": {
    "colab": {
      "provenance": [],
      "authorship_tag": "ABX9TyMeBPZZy3HhdquU3NPF1kQU",
      "include_colab_link": true
    },
    "kernelspec": {
      "name": "python3",
      "display_name": "Python 3"
    },
    "language_info": {
      "name": "python"
    }
  },
  "cells": [
    {
      "cell_type": "markdown",
      "metadata": {
        "id": "view-in-github",
        "colab_type": "text"
      },
      "source": [
        "<a href=\"https://colab.research.google.com/github/Vignesh-kanna/ml_with_flask/blob/main/30_01_2025.ipynb\" target=\"_parent\"><img src=\"https://colab.research.google.com/assets/colab-badge.svg\" alt=\"Open In Colab\"/></a>"
      ]
    },
    {
      "cell_type": "code",
      "execution_count": null,
      "metadata": {
        "id": "2a--yn35Wzbz"
      },
      "outputs": [],
      "source": [
        "#Find taxi predication price(y) by considering x value as(No. of KM Traveled) and rate per Km is fixed one(m) as 2 and fixed price as that is fare is c value is 5.\n",
        "def calculate_taxi_fare(x):\n",
        "  m = 2  # Rate per kilometer\n",
        "  c = 5  # Fixed price\n",
        "  y = m * x + c  # Calculate total fare\n",
        "  return y\n",
        "\n",
        "\n",
        "distance_traveled = 10\n",
        "fare = calculate_taxi_fare(distance_traveled)\n",
        "\n",
        "print(f\"The total taxi fare for {distance_traveled} km is: {fare}\")"
      ]
    }
  ]
}